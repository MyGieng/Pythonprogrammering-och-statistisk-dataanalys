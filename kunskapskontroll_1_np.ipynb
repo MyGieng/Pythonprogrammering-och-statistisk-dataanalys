{
 "cells": [
  {
   "cell_type": "markdown",
   "metadata": {},
   "source": [
    "Print out the dimension (number of axes), shape, size and the datatype of the matrix A."
   ]
  },
  {
   "cell_type": "code",
   "execution_count": 1,
   "metadata": {},
   "outputs": [
    {
     "name": "stdout",
     "output_type": "stream",
     "text": [
      "2\n",
      "(3, 5)\n",
      "15\n",
      "int32\n"
     ]
    }
   ],
   "source": [
    "import numpy as np \n",
    "A = np.arange(1, 16).reshape(3,5)\n",
    "print(A.ndim)\n",
    "print(A.shape)\n",
    "print(A.size)\n",
    "print(A.dtype) \n",
    "\n"
   ]
  },
  {
   "cell_type": "markdown",
   "metadata": {},
   "source": [
    "Do the following computations on the matrices B and C: \n",
    "* Elementwise subtraction. \n",
    "* Elementwise multiplication. \n",
    "* Matrix multiplication (by default you should use the @ operator)."
   ]
  },
  {
   "cell_type": "code",
   "execution_count": 3,
   "metadata": {},
   "outputs": [
    {
     "name": "stdout",
     "output_type": "stream",
     "text": [
      "[[1 2 3]\n",
      " [4 5 6]\n",
      " [7 8 9]]\n",
      "\n",
      "[[2. 2. 2.]\n",
      " [2. 2. 2.]\n",
      " [2. 2. 2.]]\n",
      "[[-1.  0.  1.]\n",
      " [ 2.  3.  4.]\n",
      " [ 5.  6.  7.]]\n",
      "[[ 2.  4.  6.]\n",
      " [ 8. 10. 12.]\n",
      " [14. 16. 18.]]\n",
      "[[12. 12. 12.]\n",
      " [30. 30. 30.]\n",
      " [48. 48. 48.]]\n"
     ]
    }
   ],
   "source": [
    "B = np.arange(1, 10).reshape(3, 3)\n",
    "C = np.ones((3, 3))*2\n",
    "\n",
    "print(B)\n",
    "print()\n",
    "print(C)\n",
    "\n",
    "\n",
    "subtraction = B - C \n",
    "multiplication = B * C \n",
    "matrix_multiplication = B @ C \n",
    "\n",
    "print(subtraction)\n",
    "print(multiplication)\n",
    "print(matrix_multiplication)\n",
    "\n"
   ]
  },
  {
   "cell_type": "markdown",
   "metadata": {},
   "source": [
    "### Do the following calculations on the matrix:\n",
    "* Exponentiate each number elementwise (use the np.exp function).\n",
    "\n",
    "* Calculate the minimum value in the whole matrix. \n",
    "* Calculcate the minimum value in each row. \n",
    "* Calculcate the minimum value in each column. \n",
    "\n",
    "\n",
    "* Find the index value for the minimum value in the whole matrix (hint: use np.argmin).\n",
    "* Find the index value for the minimum value in each row (hint: use np.argmin).\n",
    "\n",
    "\n",
    "* Calculate the sum for all elements.\n",
    "* Calculate the mean for each column. \n",
    "* Calculate the median for each column. "
   ]
  },
  {
   "cell_type": "code",
   "execution_count": 3,
   "metadata": {},
   "outputs": [
    {
     "name": "stdout",
     "output_type": "stream",
     "text": [
      "[[1 2 3]\n",
      " [4 5 6]\n",
      " [7 8 9]]\n",
      "\n",
      "[[2.71828183e+00 7.38905610e+00 2.00855369e+01]\n",
      " [5.45981500e+01 1.48413159e+02 4.03428793e+02]\n",
      " [1.09663316e+03 2.98095799e+03 8.10308393e+03]]\n",
      "\n",
      "<built-in method min of numpy.ndarray object at 0x000002328F65B9F0>\n",
      "\n",
      "[1 4 7]\n",
      "\n",
      "[1 2 3]\n",
      "\n",
      "0\n",
      "\n",
      "[0 0 0]\n",
      "\n",
      "<built-in method sum of numpy.ndarray object at 0x000002328F65B9F0>\n",
      "\n",
      "[4. 5. 6.]\n",
      "\n",
      "[4. 5. 6.]\n"
     ]
    }
   ],
   "source": [
    "B = np.arange(1, 10).reshape(3, 3)\n",
    "print(B)\n",
    "print()\n",
    "\n",
    "exp = np.exp(B)\n",
    "print(exp)\n",
    "print()\n",
    "\n",
    "B_min = B.min\n",
    "print(B_min)\n",
    "print()\n",
    "\n",
    "B_min_row = B.min(axis = 1)\n",
    "print(B_min_row)\n",
    "print()\n",
    "\n",
    "B_min_c = B.min(axis = 0)\n",
    "print(B_min_c)\n",
    "print()\n",
    "\n",
    "min_value = np.argmin(B)\n",
    "print(min_value)\n",
    "print()\n",
    "\n",
    "min_value_row = np.argmin(B, axis = 1)\n",
    "print(min_value_row)\n",
    "print()\n",
    "\n",
    "sum = B.sum\n",
    "print(sum)\n",
    "print()\n",
    "\n",
    "mean = B.mean(axis = 0)\n",
    "print(mean)\n",
    "print()\n",
    "\n",
    "median = np.median(B,axis = 0)\n",
    "print(median)\n"
   ]
  },
  {
   "cell_type": "markdown",
   "metadata": {},
   "source": [
    "What does it mean when you provide fewer indices than axes when slicing? See example below.\n",
    "\n",
    "print(A)\n",
    "A[1]\n",
    "\n",
    "\n",
    "Svar: \n",
    "när man anger färre index än antalet rader i matrisen resulterar det i att man väljer en rad i matrisen samt att dimensionen på matrisen minskas till det index som angavs. "
   ]
  },
  {
   "cell_type": "code",
   "execution_count": 10,
   "metadata": {},
   "outputs": [
    {
     "name": "stdout",
     "output_type": "stream",
     "text": [
      "[[ 1  2  3  4  5]\n",
      " [ 6  7  8  9 10]\n",
      " [11 12 13 14 15]]\n"
     ]
    },
    {
     "data": {
      "text/plain": [
       "array([ 6,  7,  8,  9, 10])"
      ]
     },
     "execution_count": 10,
     "metadata": {},
     "output_type": "execute_result"
    }
   ],
   "source": [
    "print(A)\n",
    "A[1]"
   ]
  },
  {
   "cell_type": "code",
   "execution_count": 9,
   "metadata": {},
   "outputs": [
    {
     "name": "stdout",
     "output_type": "stream",
     "text": [
      "1\n",
      "2\n",
      "3\n",
      "4\n",
      "5\n",
      "6\n",
      "7\n",
      "8\n",
      "9\n",
      "10\n",
      "11\n",
      "12\n",
      "13\n",
      "14\n",
      "15\n"
     ]
    }
   ],
   "source": [
    "A\n",
    "for i in A.flat:\n",
    "    print(i)"
   ]
  },
  {
   "cell_type": "markdown",
   "metadata": {},
   "source": [
    "Förklara vad koden gör och vad innebär det att b har 3 axlar \n",
    "\n",
    "#skapar en matris a med värden 0-29 i en rad\n",
    "a = np.arange(30)\n",
    "\n",
    "#omvandlar matris a till en 3 dimensionerad matris b, där numpy räknar ut dimensionen automatiskt\n",
    "b = a.reshape((2, 3, -1))\n",
    "print(a)\n",
    "print()\n",
    "\n",
    "print(b)"
   ]
  },
  {
   "cell_type": "code",
   "execution_count": 11,
   "metadata": {},
   "outputs": [
    {
     "name": "stdout",
     "output_type": "stream",
     "text": [
      "[ 0  1  2  3  4  5  6  7  8  9 10 11 12 13 14 15 16 17 18 19 20 21 22 23\n",
      " 24 25 26 27 28 29]\n",
      "\n",
      "[[[ 0  1  2  3  4]\n",
      "  [ 5  6  7  8  9]\n",
      "  [10 11 12 13 14]]\n",
      "\n",
      " [[15 16 17 18 19]\n",
      "  [20 21 22 23 24]\n",
      "  [25 26 27 28 29]]]\n"
     ]
    }
   ],
   "source": [
    "a = np.arange(30)\n",
    "b = a.reshape((2, 3, -1))\n",
    "print(a)\n",
    "print()\n",
    "\n",
    "print(b)"
   ]
  },
  {
   "cell_type": "markdown",
   "metadata": {},
   "source": [
    "Broadcasting"
   ]
  },
  {
   "cell_type": "markdown",
   "metadata": {},
   "source": [
    "#en matris m1 skapas med \n",
    "m1 = np.array([[1, 2], [3, 4]])\n",
    "\n",
    "#en matris m2 skapas \n",
    "m2 = np.array([1, 1])\n",
    "\n",
    "#när m1 och m2 adderas kommer m1 att strechas för att matcha m1:s dimension, när dimensionerna stämmer kommer m1 och m2 adders, dvs m2 kommer bli en matris som ser ut som följande [1, 1], [1, 1]\n",
    "print(m1 + m2)"
   ]
  },
  {
   "cell_type": "code",
   "execution_count": 12,
   "metadata": {},
   "outputs": [
    {
     "name": "stdout",
     "output_type": "stream",
     "text": [
      "[[2 3]\n",
      " [4 5]]\n"
     ]
    }
   ],
   "source": [
    "m1 = np.array([[1, 2], [3, 4]])\n",
    "m2 = np.array([1, 1])\n",
    "print(m1 + m2)"
   ]
  },
  {
   "cell_type": "markdown",
   "metadata": {},
   "source": [
    "The example below would also not be allowed if following the \"mathematical rules\" in Linear Algebra. But it works due to broadcasting in NumPy. \n",
    "\n",
    "v1 = np.array([1, 2, 3])\n",
    "print(v1 + 1)\n",
    "#denna addition funkar för att broadcasting kommer addera 1 till varje summa i v1\n",
    "\n",
    "A = np.arange(1, 5).reshape(2,2)\n",
    "print(A)\n",
    "\n",
    "b = np.array([2, 2])\n",
    "print(b)\n",
    "\n",
    "#Om A + b skulle adderas hade detta med funkar då b hade strechat och blivit en matris med [2, 2], [2, 2] och därefter hade additionen genomförts. "
   ]
  },
  {
   "cell_type": "code",
   "execution_count": 13,
   "metadata": {},
   "outputs": [
    {
     "name": "stdout",
     "output_type": "stream",
     "text": [
      "[2 3 4]\n"
     ]
    }
   ],
   "source": [
    "v1 = np.array([1, 2, 3])\n",
    "print(v1 + 1)"
   ]
  },
  {
   "cell_type": "code",
   "execution_count": 14,
   "metadata": {},
   "outputs": [
    {
     "name": "stdout",
     "output_type": "stream",
     "text": [
      "[[1 2]\n",
      " [3 4]]\n",
      "[2 2]\n"
     ]
    }
   ],
   "source": [
    "A = np.arange(1, 5).reshape(2,2)\n",
    "print(A)\n",
    "\n",
    "b = np.array([2, 2])\n",
    "print(b)"
   ]
  },
  {
   "cell_type": "code",
   "execution_count": null,
   "metadata": {},
   "outputs": [],
   "source": []
  },
  {
   "cell_type": "markdown",
   "metadata": {},
   "source": [
    "Basic indexing creates a view, How can you check if v1 and v2 is a view or copy? If you change the last element in v2 to 123, will the last element in v1 be changed? Why?"
   ]
  },
  {
   "cell_type": "code",
   "execution_count": 15,
   "metadata": {},
   "outputs": [
    {
     "name": "stdout",
     "output_type": "stream",
     "text": [
      "[0 1 2 3]\n",
      "[2 3]\n"
     ]
    }
   ],
   "source": [
    "v1 = np.arange(4)\n",
    "v2 = v1[-2:]\n",
    "print(v1)\n",
    "print(v2)"
   ]
  },
  {
   "cell_type": "code",
   "execution_count": 16,
   "metadata": {},
   "outputs": [
    {
     "name": "stdout",
     "output_type": "stream",
     "text": [
      "None\n",
      "[0 1 2 3]\n"
     ]
    }
   ],
   "source": [
    "# The base attribute of a view returns the original array while it returns None for a copy.\n",
    "print(v1.base)\n",
    "print(v2.base)"
   ]
  },
  {
   "cell_type": "code",
   "execution_count": 17,
   "metadata": {},
   "outputs": [
    {
     "name": "stdout",
     "output_type": "stream",
     "text": [
      "[  0   1   2 123]\n",
      "[  2 123]\n"
     ]
    }
   ],
   "source": [
    "# The last element in v1 will be changed aswell since v2 is a view, meaning they share the same data buffer.\n",
    "v2[-1] = 123\n",
    "print(v1)\n",
    "print(v2)"
   ]
  },
  {
   "cell_type": "markdown",
   "metadata": {},
   "source": [
    "Svar: när v2 skrivs som ovan kommer en view att skapas av v1. Efersom v2[-1] ändrar sista elementet i v2 kommer därför även v1 att ändras"
   ]
  },
  {
   "cell_type": "markdown",
   "metadata": {},
   "source": [
    "Now you are going to create a function that can be reused every time you add or multiply matrices. The function is created so that we do the addition and multiplication according to the rules of vector- and matrix algebra.\n",
    "\n",
    "Create a function \"add_mult_matrices\" that takes two matrices as input arguments (validate that the input are of the type numpy.ndarray by using the isinstance function), a third argument that is either 'add' or 'multiply' that specifies if you want to add or multiply the matrices (validate that the third argument is either 'add' or 'multiply'). When doing matrix addition, validate that the matrices have the same size. When doing matrix multiplication, validate that the sizes conform (i.e. number of columns in the first matrix is equal to the number of rows in the second matrix)."
   ]
  },
  {
   "cell_type": "markdown",
   "metadata": {},
   "source": [
    "def add_mult_matrices(M1, M2, add_or_multi):\n",
    "    if not isinstance(M1, np.ndarray) or not isinstance(M2, np.ndarray):\n",
    "        raise Error(\"M1 och M2 måste vara numpy.ndarray)\n",
    "    if add_or_multi not in [\"add\", \"multi\"]:\n",
    "        raise Error(\"Måste vara add eller multi)\n",
    "    if add_or_multi == \"add\":\n",
    "        if M1.shape != M2.shape:\n",
    "            raise Error(\"matriser måste ha samma dimension)\n",
    "        return M1 + M2\n",
    "    else: \n",
    "        return M1 @ M2\n"
   ]
  },
  {
   "cell_type": "markdown",
   "metadata": {},
   "source": [
    "Uppgift 10.1.1. Definiera vektorn x enligt nedan.\n",
    "x = (4, 3)\n",
    "(a) Vilken dimension har vektorn x?\n",
    "(b) Ber¨akna 5x.\n",
    "(c) Ber¨akna 3x.\n",
    "(d) Ber¨akna 5x + 3x.\n",
    "(e) Ber¨akna 8x.\n",
    "(f) Ber¨akna 4x − x.\n",
    "(g) Ber¨akna x\n",
    "⊤, vilken blir den nya dimensionen efter att\n",
    "transponeringen utf¨orts?\n",
    "(h) Ar ¨ x + x\n",
    "⊤ definierat?\n",
    "(i) Ber¨akna ∥x∥."
   ]
  },
  {
   "cell_type": "code",
   "execution_count": 7,
   "metadata": {},
   "outputs": [],
   "source": [
    "import numpy as np\n"
   ]
  },
  {
   "cell_type": "code",
   "execution_count": 45,
   "metadata": {},
   "outputs": [
    {
     "name": "stdout",
     "output_type": "stream",
     "text": [
      "[4 3]\n",
      "(2,)\n",
      "\n",
      "[20 15]\n",
      "\n",
      "[12  9]\n",
      "\n",
      "[32 24]\n",
      "\n",
      "[32 24]\n",
      "\n",
      "[12  9]\n",
      "\n",
      "[4 3]\n",
      "\n",
      "\n",
      "[4 3]\n",
      "(2,)\n",
      "\n",
      "5.0\n"
     ]
    }
   ],
   "source": [
    "x = np.array([4, 3])\n",
    "print(x)\n",
    "print(x.shape)\n",
    "print()\n",
    "\n",
    "print(5*x)\n",
    "print()\n",
    "\n",
    "print(3*x)\n",
    "print()\n",
    "\n",
    "print(5*x+3*x)\n",
    "print()\n",
    "\n",
    "print(8*x)\n",
    "print()\n",
    "\n",
    "print(4*x - x)\n",
    "print()\n",
    "\n",
    "print(x.T)\n",
    "print()\n",
    "print()\n",
    "\n",
    "print(x.T)\n",
    "x_T_shape = x.T.shape\n",
    "print(x_T_shape)\n",
    "print()\n",
    "\n",
    "print(np.linalg.norm(x))"
   ]
  },
  {
   "cell_type": "markdown",
   "metadata": {},
   "source": [
    "Uppgift 10.1.2. Definiera vektorn v enligt nedan.\n",
    "v =\n",
    "(\n",
    "3\n",
    "7\n",
    "0\n",
    "11)\n",
    "(a) Vilken dimension har vektorn v?\n",
    "(b) Ber¨akna 2v.\n",
    "380\n",
    "(c) Ber¨akna 5v + 2v.\n",
    "(d) Ber¨akna 4v − 2v.\n",
    "(e) Ber¨akna v\n",
    "⊤, vilken blir den nya dimensionen efter att\n",
    "transponeringen utf¨orts?\n",
    "(f) Ber¨akna ∥v∥"
   ]
  },
  {
   "cell_type": "code",
   "execution_count": 48,
   "metadata": {},
   "outputs": [
    {
     "name": "stdout",
     "output_type": "stream",
     "text": [
      "(4,)\n",
      "\n",
      "[ 6 14  0 22]\n",
      "\n",
      "[21 49  0 77]\n",
      "\n",
      "[ 6 14  0 22]\n",
      "\n",
      "[ 3  7  0 11]\n",
      "(4,)\n",
      "\n",
      "13.379088160259652\n"
     ]
    }
   ],
   "source": [
    "v = np.array([3, 7, 0, 11])\n",
    "\n",
    "print(v.shape)\n",
    "print()\n",
    "\n",
    "print(2*v)\n",
    "print()\n",
    "\n",
    "print(5*v + 2*v)\n",
    "print()\n",
    "\n",
    "print(4*v - 2*v)\n",
    "print()\n",
    "\n",
    "print(v.T)\n",
    "v_T_shape = v.T.shape\n",
    "print(v_T_shape)\n",
    "print()\n",
    "\n",
    "print(np.linalg.norm(v))\n",
    "\n",
    "\n"
   ]
  },
  {
   "cell_type": "markdown",
   "metadata": {},
   "source": [
    "10.1.3. Definiera vektorerna v1 = (4, 3, 1, 5) och\n",
    "v2 = (2, 3, 1, 1).\n",
    "(a) Ber¨akna ∥v1∥.\n",
    "(b) Ber¨akna ∥v1 − v2∥."
   ]
  },
  {
   "cell_type": "code",
   "execution_count": 50,
   "metadata": {},
   "outputs": [
    {
     "name": "stdout",
     "output_type": "stream",
     "text": [
      "7.14142842854285\n",
      "\n",
      "4.47213595499958\n"
     ]
    }
   ],
   "source": [
    "v1 = np.array([4, 3, 1, 5])\n",
    "v2 = np.array([2, 3, 1, 1])\n",
    "\n",
    "print(np.linalg.norm(v1))\n",
    "print()\n",
    "\n",
    "print(np.linalg.norm(v1-v2))"
   ]
  },
  {
   "cell_type": "markdown",
   "metadata": {},
   "source": [
    "Uppgift 10.2.1\n"
   ]
  },
  {
   "cell_type": "code",
   "execution_count": 58,
   "metadata": {},
   "outputs": [
    {
     "name": "stdout",
     "output_type": "stream",
     "text": [
      "[[1 0]\n",
      " [0 1]]\n"
     ]
    }
   ],
   "source": [
    "A = np.array([[2, 1, -1,], [1, -1, 1]])\n",
    "B = np.array([[4, -2, 1], [2, -4, -2]])\n",
    "C = np.array([1, 2], [2, 1]])\n",
    "D = np.array([[3, 4], [4, 3]])\n",
    "E = np.array([1, 2])\n",
    "I = np.array([[1, 0], [0, 1]])\n",
    "print(I)"
   ]
  },
  {
   "cell_type": "code",
   "execution_count": 63,
   "metadata": {},
   "outputs": [
    {
     "name": "stdout",
     "output_type": "stream",
     "text": [
      "[[ 4  2 -2]\n",
      " [ 2 -2  2]]\n",
      "\n",
      "[[ 0 -4  3]\n",
      " [ 0 -2 -4]]\n",
      "\n"
     ]
    }
   ],
   "source": [
    "print(2*A)\n",
    "print()\n",
    "\n",
    "print(B-2*A)\n",
    "print()\n"
   ]
  },
  {
   "cell_type": "code",
   "execution_count": 76,
   "metadata": {},
   "outputs": [],
   "source": [
    "def add_mult_matrices(M1, M2, add_or_multi):\n",
    "    if not isinstance(M1, np.ndarray) or not isinstance(M2, np.ndarray):\n",
    "        raise ValueError(\"M1 och M2 måste vara numpy.ndarray\")\n",
    "    if add_or_multi not in [\"add\", \"multi\"]:\n",
    "        raise ValueError(\"Måste vara add eller multi\")\n",
    "    if add_or_multi == \"add\":\n",
    "        if M1.shape != M2.shape:\n",
    "            raise ValueError(\"matriser måste ha samma dimension\")\n",
    "        return M1 + M2\n",
    "    else: \n",
    "        return M1 @ M2"
   ]
  },
  {
   "cell_type": "code",
   "execution_count": 91,
   "metadata": {},
   "outputs": [
    {
     "name": "stdout",
     "output_type": "stream",
     "text": [
      "matriser måste ha samma dimension\n"
     ]
    }
   ],
   "source": [
    "\n",
    "C = np.array([[1, 2], [2, 1]])\n",
    "E = np.array([1, 2])\n",
    "\n",
    "try:\n",
    "    resultat = add_mult_matrices(2*C, -2*E, \"add\")\n",
    "    print(resultat)\n",
    "except ValueError as fel:\n",
    "    print(fel)\n",
    "\n"
   ]
  },
  {
   "cell_type": "code",
   "execution_count": 92,
   "metadata": {},
   "outputs": [
    {
     "name": "stdout",
     "output_type": "stream",
     "text": [
      "[[3 2]\n",
      " [2 3]]\n"
     ]
    }
   ],
   "source": [
    "try:\n",
    "    resultat = add_mult_matrices(2*D, -3*C, \"add\")\n",
    "    print(resultat)\n",
    "except ValueError as fel:\n",
    "    print(fel)"
   ]
  },
  {
   "cell_type": "code",
   "execution_count": 93,
   "metadata": {},
   "outputs": [
    {
     "name": "stdout",
     "output_type": "stream",
     "text": [
      "Resultat av addition: [[ 9 12]\n",
      " [12  9]]\n"
     ]
    }
   ],
   "source": [
    "try:\n",
    "    resultat = add_mult_matrices(D.T, 2*D, \"add\")\n",
    "    print(resultat)\n",
    "except ValueError as fel:\n",
    "    print(fel)"
   ]
  },
  {
   "cell_type": "code",
   "execution_count": 95,
   "metadata": {},
   "outputs": [
    {
     "name": "stdout",
     "output_type": "stream",
     "text": [
      "[[-4 -4]\n",
      " [-4 -4]]\n"
     ]
    }
   ],
   "source": [
    "try:\n",
    "    resultat = add_mult_matrices(2*C.T, -2*D.T, \"add\")\n",
    "    print(resultat)\n",
    "except ValueError as fel:\n",
    "    print(fel)"
   ]
  },
  {
   "cell_type": "code",
   "execution_count": 102,
   "metadata": {},
   "outputs": [
    {
     "name": "stdout",
     "output_type": "stream",
     "text": [
      "matriser måste ha samma dimension\n"
     ]
    }
   ],
   "source": [
    "try:\n",
    "    resultat = add_mult_matrices(A.T, -B, \"add\")\n",
    "    print(resultat)\n",
    "except ValueError as fel:\n",
    "    print(fel)"
   ]
  },
  {
   "cell_type": "code",
   "execution_count": 103,
   "metadata": {},
   "outputs": [
    {
     "name": "stdout",
     "output_type": "stream",
     "text": [
      "matmul: Input operand 1 has a mismatch in its core dimension 0, with gufunc signature (n?,k),(k,m?)->(n?,m?) (size 2 is different from 3)\n"
     ]
    }
   ],
   "source": [
    "try:\n",
    "    resultat = add_mult_matrices(A, C, \"multi\")\n",
    "    print(resultat)\n",
    "except ValueError as fel:\n",
    "    print(fel)"
   ]
  },
  {
   "cell_type": "code",
   "execution_count": 104,
   "metadata": {},
   "outputs": [
    {
     "name": "stdout",
     "output_type": "stream",
     "text": [
      "[[11 10]\n",
      " [10 11]]\n"
     ]
    }
   ],
   "source": [
    "try:\n",
    "    resultat = add_mult_matrices(C, D, \"multi\")\n",
    "    print(resultat)\n",
    "except ValueError as fel:\n",
    "    print(fel)"
   ]
  },
  {
   "cell_type": "code",
   "execution_count": 106,
   "metadata": {},
   "outputs": [
    {
     "name": "stdout",
     "output_type": "stream",
     "text": [
      "[[  8 -10  -3]\n",
      " [ 10  -8   0]]\n"
     ]
    }
   ],
   "source": [
    "try:\n",
    "    resultat = add_mult_matrices(C, B, \"multi\")\n",
    "    print(resultat)\n",
    "except ValueError as fel:\n",
    "    print(fel)"
   ]
  },
  {
   "cell_type": "code",
   "execution_count": 107,
   "metadata": {},
   "outputs": [
    {
     "name": "stdout",
     "output_type": "stream",
     "text": [
      "[[1 2]\n",
      " [2 1]]\n"
     ]
    }
   ],
   "source": [
    "try:\n",
    "    resultat = add_mult_matrices(C, I, \"multi\")\n",
    "    print(resultat)\n",
    "except ValueError as fel:\n",
    "    print(fel)"
   ]
  },
  {
   "cell_type": "code",
   "execution_count": 109,
   "metadata": {},
   "outputs": [
    {
     "name": "stdout",
     "output_type": "stream",
     "text": [
      "[[5 2]\n",
      " [7 4]]\n"
     ]
    }
   ],
   "source": [
    "try:\n",
    "    resultat = add_mult_matrices(A, B.T, \"multi\")\n",
    "    print(resultat)\n",
    "except ValueError as fel:\n",
    "    print(fel)"
   ]
  },
  {
   "cell_type": "markdown",
   "metadata": {},
   "source": [
    "10.2.2"
   ]
  },
  {
   "cell_type": "code",
   "execution_count": 111,
   "metadata": {},
   "outputs": [
    {
     "name": "stdout",
     "output_type": "stream",
     "text": [
      "[[29 26]\n",
      " [26 42]]\n"
     ]
    }
   ],
   "source": [
    "A = np.array([[2, 3, 4], [5, 4, 1]])\n",
    "\n",
    "try:\n",
    "    resultat = add_mult_matrices(A, A.T, \"multi\")\n",
    "    print(resultat)\n",
    "except ValueError as fel:\n",
    "    print(fel)"
   ]
  },
  {
   "cell_type": "markdown",
   "metadata": {},
   "source": [
    "10.2.3"
   ]
  },
  {
   "cell_type": "code",
   "execution_count": 119,
   "metadata": {},
   "outputs": [
    {
     "name": "stdout",
     "output_type": "stream",
     "text": [
      "[[ 4  7]\n",
      " [ 8 14]]\n",
      "\n",
      "[[ 4  7]\n",
      " [ 8 14]]\n"
     ]
    }
   ],
   "source": [
    "A = np.array([[1, 2], [2, 4]])\n",
    "B = np.array([[2, 1], [1, 3]])\n",
    "C = np.array([[4, 3], [0, 2]])\n",
    "\n",
    "try:\n",
    "    resultat = add_mult_matrices(A, B, \"multi\")\n",
    "    print(resultat)\n",
    "except ValueError as fel:\n",
    "    print(fel)\n",
    "print()\n",
    "try:\n",
    "    resultat = add_mult_matrices(A, C, \"multi\")\n",
    "    print(resultat)\n",
    "except ValueError as fel:\n",
    "    print(fel)"
   ]
  }
 ],
 "metadata": {
  "kernelspec": {
   "display_name": "base",
   "language": "python",
   "name": "python3"
  },
  "language_info": {
   "codemirror_mode": {
    "name": "ipython",
    "version": 3
   },
   "file_extension": ".py",
   "mimetype": "text/x-python",
   "name": "python",
   "nbconvert_exporter": "python",
   "pygments_lexer": "ipython3",
   "version": "3.12.4"
  }
 },
 "nbformat": 4,
 "nbformat_minor": 2
}
